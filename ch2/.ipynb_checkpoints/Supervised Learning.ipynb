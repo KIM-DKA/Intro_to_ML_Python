{
 "cells": [
  {
   "cell_type": "markdown",
   "metadata": {},
   "source": [
    "### Ch.2 지도 학습 (Supervised Learning)\n",
    "---\n",
    "- 2.1 분류와 회귀 \n",
    "<br><br>\n",
    "- 2.2 일반화, 과대적합, 과소적합  \n",
    "    - 2.2.1 모델 복잡도와 데이터셋 크기의 관계\n",
    "<br><br>\n",
    "- 2.3 지도 학습 알고리즘  \n",
    "    - 2.3.1 예제에 사용할 데이터셋 \n",
    "    - 2.3.2 k-최근접 이웃 \n",
    "    - 2.3.3 선형 모델 \n",
    "    - 2.3.4 나이브 베이즈 분류기  \n",
    "    - 2.3.5 결정 트리  \n",
    "    - 2.3.6 결정 트리의 앙상블 \n",
    "    - 2.3.7 (한국어판 부록) 배깅, 엑스트라 트리, 에이다부스트 \n",
    "    - 2.3.8 커널 서포트 벡터 머신 \n",
    "    - 2.3.9 신경망(딥러닝)\n",
    "<br><br>\n",
    "- 2.4 분류 예측의 불확실성 추정   \n",
    "    - 2.4.1 결정 함수   \n",
    "    - 2.4.2 예측 확률   \n",
    "    - 2.4.3 다중 분류에서의 불확실성\n",
    "<br><br>\n",
    "- 2.5 요약 및 정리\n"
   ]
  },
  {
   "cell_type": "markdown",
   "metadata": {},
   "source": [
    "---\n",
    "#### Library"
   ]
  },
  {
   "cell_type": "code",
   "execution_count": 2,
   "metadata": {},
   "outputs": [],
   "source": [
    "import numpy as np "
   ]
  },
  {
   "cell_type": "markdown",
   "metadata": {},
   "source": [
    "---\n",
    "#### 2.1 분류와 회귀 \n",
    "* Classification(분류) : Model For Binomial, Multi Nomial, Multi Class\n",
    "<br> <br>\n",
    "* Regression(회귀) : Model For Continuous Data (Include Discrete)"
   ]
  },
  {
   "cell_type": "markdown",
   "metadata": {},
   "source": [
    "---\n",
    "\n",
    "#### 2.2 일반화, 과대적합, 과소적합  \n",
    "    - 2.2.1 모델 복잡도와 데이터셋 크기의 관계"
   ]
  },
  {
   "cell_type": "markdown",
   "metadata": {},
   "source": [
    "---\n",
    "\n",
    "#### 2.3 지도 학습 알고리즘  \n",
    "    - 2.3.1 예제에 사용할 데이터셋 \n",
    "    - 2.3.2 k-최근접 이웃 \n",
    "    - 2.3.3 선형 모델 \n",
    "    - 2.3.4 나이브 베이즈 분류기  \n",
    "    - 2.3.5 결정 트리  \n",
    "    - 2.3.6 결정 트리의 앙상블 \n",
    "    - 2.3.7 (한국어판 부록) 배깅, 엑스트라 트리, 에이다부스트 \n",
    "    - 2.3.8 커널 서포트 벡터 머신 \n",
    "    - 2.3.9 신경망(딥러닝)"
   ]
  },
  {
   "cell_type": "markdown",
   "metadata": {},
   "source": [
    "---\n",
    "\n",
    "#### 2.4 분류 예측의 불확실성 추정   \n",
    "    - 2.4.1 결정 함수   \n",
    "    - 2.4.2 예측 확률   \n",
    "    - 2.4.3 다중 분류에서의 불확실성\n"
   ]
  },
  {
   "cell_type": "markdown",
   "metadata": {},
   "source": []
  },
  {
   "cell_type": "markdown",
   "metadata": {},
   "source": []
  },
  {
   "cell_type": "code",
   "execution_count": null,
   "metadata": {},
   "outputs": [],
   "source": []
  },
  {
   "cell_type": "code",
   "execution_count": null,
   "metadata": {},
   "outputs": [],
   "source": []
  },
  {
   "cell_type": "code",
   "execution_count": null,
   "metadata": {},
   "outputs": [],
   "source": []
  },
  {
   "cell_type": "code",
   "execution_count": 1,
   "metadata": {},
   "outputs": [
    {
     "ename": "ModuleNotFoundError",
     "evalue": "No module named 'numpy'",
     "output_type": "error",
     "traceback": [
      "\u001b[0;31m---------------------------------------------------------------------------\u001b[0m",
      "\u001b[0;31mModuleNotFoundError\u001b[0m                       Traceback (most recent call last)",
      "Cell \u001b[0;32mIn[1], line 1\u001b[0m\n\u001b[0;32m----> 1\u001b[0m \u001b[39mimport\u001b[39;00m \u001b[39mnumpy\u001b[39;00m\n",
      "\u001b[0;31mModuleNotFoundError\u001b[0m: No module named 'numpy'"
     ]
    }
   ],
   "source": [
    "import numpy"
   ]
  },
  {
   "cell_type": "code",
   "execution_count": 4,
   "metadata": {},
   "outputs": [
    {
     "data": {
      "text/plain": [
       "'/Users/home/Desktop/ML/ch2/.ipynb_checkpoints'"
      ]
     },
     "execution_count": 4,
     "metadata": {},
     "output_type": "execute_result"
    }
   ],
   "source": [
    "os.getcwd()"
   ]
  },
  {
   "cell_type": "markdown",
   "metadata": {},
   "source": [
    "\n",
    "### 참고 자료\n",
    "\n",
    "- [Gudmundsson, J. (2017) Spatio-Temporal Analysis](https://dl.acm.org/doi/abs/10.1145/3054132)\n",
    "- [Breiman, L. (2001) RANDOM FORESTS](https://www.stat.berkeley.edu/~breiman/randomforest2001.pdf)\n",
    "- [DKA, K. (2022) Gis Lecture](https://github.com/KIM-DKA/gis_lecture/blob/main/lecture/gis_lecture2.ipynb)\n"
   ]
  },
  {
   "cell_type": "markdown",
   "metadata": {},
   "source": []
  }
 ],
 "metadata": {
  "kernelspec": {
   "display_name": "Python 3.9.15 ('ml')",
   "language": "python",
   "name": "python3"
  },
  "language_info": {
   "codemirror_mode": {
    "name": "ipython",
    "version": 3
   },
   "file_extension": ".py",
   "mimetype": "text/x-python",
   "name": "python",
   "nbconvert_exporter": "python",
   "pygments_lexer": "ipython3",
   "version": "3.9.15"
  },
  "orig_nbformat": 4,
  "vscode": {
   "interpreter": {
    "hash": "962b56533cb99be7443cbac484d045618ee64c9b852584f4d383fa9c76e8eebc"
   }
  }
 },
 "nbformat": 4,
 "nbformat_minor": 2
}
