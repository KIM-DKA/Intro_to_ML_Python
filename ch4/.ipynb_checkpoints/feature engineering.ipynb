{
 "cells": [
  {
   "cell_type": "code",
   "execution_count": null,
   "metadata": {},
   "outputs": [],
   "source": [
    "# Data \n",
    "import os \n",
    "import sys \n",
    "import imp \n",
    "import re \n",
    "import numpy as np \n",
    "import pandas as pd \n",
    "import warnings\n",
    "import itertools\n",
    "\n",
    "\n",
    "# Visual \n",
    "import matplotlib.pyplot as plt \n",
    "import seaborn as sns \n",
    "\n",
    "# Model\n",
    "from sklearn.neighbors import KNeighborsClassifier\n",
    "from sklearn.model_selection import train_test_split\n",
    "from sklearn import metrics\n",
    "from sklearn import datasets"
   ]
  }
 ],
 "metadata": {
  "kernelspec": {
   "display_name": "Python 3.9.16 ('ml')",
   "language": "python",
   "name": "python3"
  },
  "language_info": {
   "name": "python",
   "version": "3.9.16"
  },
  "orig_nbformat": 4,
  "vscode": {
   "interpreter": {
    "hash": "962b56533cb99be7443cbac484d045618ee64c9b852584f4d383fa9c76e8eebc"
   }
  }
 },
 "nbformat": 4,
 "nbformat_minor": 2
}
