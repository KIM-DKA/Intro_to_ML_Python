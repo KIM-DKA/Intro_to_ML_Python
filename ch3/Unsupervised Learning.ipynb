{
 "cells": [
  {
   "cell_type": "code",
   "execution_count": null,
   "metadata": {},
   "outputs": [],
   "source": [
    "import sklearn"
   ]
  }
 ],
 "metadata": {
  "kernelspec": {
   "display_name": "Python 3.9.16 ('ml')",
   "language": "python",
   "name": "python3"
  },
  "language_info": {
   "name": "python",
   "version": "3.9.16"
  },
  "orig_nbformat": 4,
  "vscode": {
   "interpreter": {
    "hash": "962b56533cb99be7443cbac484d045618ee64c9b852584f4d383fa9c76e8eebc"
   }
  }
 },
 "nbformat": 4,
 "nbformat_minor": 2
}
